{
  "nbformat": 4,
  "nbformat_minor": 0,
  "metadata": {
    "colab": {
      "name": "AlexNet.ipynb",
      "provenance": []
    },
    "kernelspec": {
      "name": "python3",
      "display_name": "Python 3"
    },
    "language_info": {
      "name": "python"
    },
    "accelerator": "GPU"
  },
  "cells": [
    {
      "cell_type": "code",
      "metadata": {
        "id": "6dzt-b0SOagf"
      },
      "source": [
        "#import libraries \n",
        "import numpy as np \n",
        "import tensorflow.keras\n",
        "from keras.models import Sequential\n",
        "from keras.layers import Dense,Activation,Dropout,Flatten,Conv2D,MaxPooling2D\n",
        "from keras.layers.normalization import BatchNormalization\n",
        "import tflearn.datasets.oxflower17 as oxflower17\n",
        "np.random.seed(1000)"
      ],
      "execution_count": null,
      "outputs": []
    },
    {
      "cell_type": "code",
      "metadata": {
        "id": "MES2_4m6kQ3U"
      },
      "source": [
        "#Get Data \n",
        "x,y = oxflower17.load_data(one_hot=True)"
      ],
      "execution_count": 2,
      "outputs": []
    },
    {
      "cell_type": "code",
      "metadata": {
        "id": "D54Ywu26lFI8"
      },
      "source": [
        "## Create a Sequential Model \n",
        "model = Sequential()\n",
        "\n",
        "## 1st Conv Layer\n",
        "model.add(Conv2D(96,11,strides=(4,4),padding='valid',input_shape=(224,224,3)))\n",
        "model.add(Activation('relu'))\n",
        "## MaxPooling\n",
        "model.add(MaxPooling2D(pool_size=(3,3),strides=(2,2),padding='valid'))\n",
        "## BatchNormalization\n",
        "model.add(BatchNormalization())\n",
        "\n",
        "## 2nd Conv layer\n",
        "model.add(Conv2D(256,5,strides=(1,1),padding='valid'))\n",
        "model.add(Activation('relu'))\n",
        "#Pooling\n",
        "model.add(MaxPooling2D(pool_size=(3,3),strides=(2,2),padding='valid')) \n",
        "## BatchNormalization\n",
        "model.add(BatchNormalization())\n",
        "\n",
        "## 3rd Conv layer\n",
        "model.add(Conv2D(384,3,strides=(1,1),padding='valid'))\n",
        "model.add(Activation('relu'))\n",
        "## BatchNormalization\n",
        "model.add(BatchNormalization())\n",
        "\n",
        "## 4th Conv layer\n",
        "model.add(Conv2D(384,3,strides=(1,1),padding='valid'))\n",
        "model.add(Activation('relu'))\n",
        "## BatchNormalization\n",
        "model.add(BatchNormalization())\n",
        "\n",
        "## 5th Conv layer\n",
        "model.add(Conv2D(256,3,strides=(1,1),padding='valid'))\n",
        "model.add(Activation('relu'))\n",
        "## Pool\n",
        "model.add(MaxPooling2D(pool_size=(3,3),strides=(2,2),padding='valid')) \n",
        "## BatchNormalization\n",
        "model.add(BatchNormalization())\n",
        "\n",
        "## Dense Layer\n",
        "model.add(Flatten())\n",
        "model.add(Dense(4096,input_shape=(224*224*3,)))\n",
        "model.add(Activation('relu'))\n",
        "model.add(Dropout(0.4))\n",
        "model.add(BatchNormalization())\n",
        "model.add(Dense(4096))\n",
        "model.add(Activation('relu'))\n",
        "model.add(Dropout(0.4))\n",
        "model.add(BatchNormalization())\n",
        "\n",
        "## Output Layer\n",
        "model.add(Dense(17))\n",
        "model.add(Activation('softmax'))"
      ],
      "execution_count": 4,
      "outputs": []
    },
    {
      "cell_type": "code",
      "metadata": {
        "id": "lHNsRGhfnWrg"
      },
      "source": [
        "## Compile\n",
        "model.compile(loss='categorical_crossentropy',optimizer='adam',metrics=['accuracy'])"
      ],
      "execution_count": 5,
      "outputs": []
    },
    {
      "cell_type": "code",
      "metadata": {
        "id": "IjavhYQJnctR"
      },
      "source": [
        "model.fit(x,y,batch_size=10,epochs=5,verbose=1,validation_split=0.2,shuffle=True)"
      ],
      "execution_count": null,
      "outputs": []
    },
    {
      "cell_type": "code",
      "metadata": {
        "id": "MPpwBniSngQ2"
      },
      "source": [
        "model.summary()\n",
        "score = model.evaluate(x,y)\n",
        "print('Test Loss',score[0])\n",
        "print('Test accuracy:',score[1])"
      ],
      "execution_count": null,
      "outputs": []
    },
    {
      "cell_type": "code",
      "metadata": {
        "id": "9VKYPZ--nmJn"
      },
      "source": [
        ""
      ],
      "execution_count": null,
      "outputs": []
    }
  ]
}