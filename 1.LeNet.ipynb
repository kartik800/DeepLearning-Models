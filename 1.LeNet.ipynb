{
  "nbformat": 4,
  "nbformat_minor": 0,
  "metadata": {
    "colab": {
      "name": "Untitled14.ipynb",
      "provenance": []
    },
    "kernelspec": {
      "name": "python3",
      "display_name": "Python 3"
    },
    "language_info": {
      "name": "python"
    }
  },
  "cells": [
    {
      "cell_type": "markdown",
      "metadata": {
        "id": "gD4G9XjdtWjm"
      },
      "source": [
        "## **LeNet Implementationa**"
      ]
    },
    {
      "cell_type": "code",
      "metadata": {
        "id": "_sEtvT55tdZE"
      },
      "source": [
        "## Import Libraries\n",
        "import numpy as np\n",
        "import matplotlib.pyplot as plt\n",
        "import seaborn as sns\n",
        "import tensorflow as tf"
      ],
      "execution_count": 29,
      "outputs": []
    },
    {
      "cell_type": "code",
      "metadata": {
        "id": "Sltu_tzotoIA"
      },
      "source": [
        "## Load Dataset \n",
        "(X_train, y_train), (X_test, y_test) = tf.keras.datasets.mnist.load_data()"
      ],
      "execution_count": 30,
      "outputs": []
    },
    {
      "cell_type": "code",
      "metadata": {
        "colab": {
          "base_uri": "https://localhost:8080/"
        },
        "id": "XwiZSN4IuKe1",
        "outputId": "7668c4ed-0a10-4f86-d246-0703b3d15d9f"
      },
      "source": [
        "## Shape of X_train,y_train\n",
        "X_train.shape, y_train.shape"
      ],
      "execution_count": 31,
      "outputs": [
        {
          "output_type": "execute_result",
          "data": {
            "text/plain": [
              "((60000, 28, 28), (60000,))"
            ]
          },
          "metadata": {
            "tags": []
          },
          "execution_count": 31
        }
      ]
    },
    {
      "cell_type": "code",
      "metadata": {
        "colab": {
          "base_uri": "https://localhost:8080/"
        },
        "id": "dJdsFTodvCH7",
        "outputId": "9ae5321a-99d6-41ef-f7e2-230d98104203"
      },
      "source": [
        "## shape of X_test,y_test\n",
        "X_test.shape, y_test.shape"
      ],
      "execution_count": 32,
      "outputs": [
        {
          "output_type": "execute_result",
          "data": {
            "text/plain": [
              "((10000, 28, 28), (10000,))"
            ]
          },
          "metadata": {
            "tags": []
          },
          "execution_count": 32
        }
      ]
    },
    {
      "cell_type": "code",
      "metadata": {
        "colab": {
          "base_uri": "https://localhost:8080/",
          "height": 282
        },
        "id": "-HtUGV6UvGiF",
        "outputId": "575c0fe1-da89-4530-e6eb-d78e77c8e2c2"
      },
      "source": [
        "## Show Image\n",
        "plt.imshow(X_train[0],cmap=\"Greys\")"
      ],
      "execution_count": 33,
      "outputs": [
        {
          "output_type": "execute_result",
          "data": {
            "text/plain": [
              "<matplotlib.image.AxesImage at 0x7f003fdc6250>"
            ]
          },
          "metadata": {
            "tags": []
          },
          "execution_count": 33
        },
        {
          "output_type": "display_data",
          "data": {
            "image/png": "[encoded data removed]",
            "text/plain": [
              "<Figure size 432x288 with 1 Axes>"
            ]
          },
          "metadata": {
            "tags": [],
            "needs_background": "light"
          }
        }
      ]
    },
    {
      "cell_type": "code",
      "metadata": {
        "id": "0FAhwWXivJX2"
      },
      "source": [
        "## Preprocessing the data\n",
        "X_train = X_train.reshape(X_train.shape[0],28,28,1)\n",
        "X_test = X_test.reshape(X_test.shape[0],28,28,1)\n",
        "input_shape = (28,28,1)\n",
        "X_train = X_train.astype('float32')\n",
        "X_test = X_test.astype('float32')\n",
        "X_train = X_train/255\n",
        "X_test = X_test/255"
      ],
      "execution_count": 34,
      "outputs": []
    },
    {
      "cell_type": "code",
      "metadata": {
        "id": "rM9YiiPvv2SS"
      },
      "source": [
        "# One-hot encode the labels\n",
        "y_train = tf.keras.utils.to_categorical(y_train,10)\n",
        "y_test = tf.keras.utils.to_categorical(y_test,10)"
      ],
      "execution_count": 35,
      "outputs": []
    },
    {
      "cell_type": "code",
      "metadata": {
        "id": "IoaU6xdiwz0B"
      },
      "source": [
        "## Model Building \n",
        "model =keras.models.Sequential([\n",
        "  keras.layers.Conv2D(6,5, strides=(1,1), activation=\"tanh\", input_shape=[28,28,1]),\n",
        "  keras.layers.AveragePooling2D(pool_size=(2,2),strides=(2,2)),\n",
        "  keras.layers.Conv2D(16,5,strides=(1,1),activation='tanh'),\n",
        "  keras.layers.AveragePooling2D(pool_size=(2,2),strides=(2,2)),\n",
        "  keras.layers.Flatten(), \n",
        "  keras.layers.Dense(units=120,activation='tanh'),\n",
        "  keras.layers.Flatten(),\n",
        "  keras.layers.Dense(units=84,activation='tanh'),\n",
        "  keras.layers.Dense(units=10,activation='softmax'),\n",
        "])"
      ],
      "execution_count": 36,
      "outputs": []
    },
    {
      "cell_type": "code",
      "metadata": {
        "colab": {
          "base_uri": "https://localhost:8080/"
        },
        "id": "wJLIGOy-0KUy",
        "outputId": "175d9f74-0030-4b74-8e40-227357bb477e"
      },
      "source": [
        "model.summary()"
      ],
      "execution_count": 37,
      "outputs": [
        {
          "output_type": "stream",
          "text": [
            "Model: \"sequential_1\"\n",
            "_________________________________________________________________\n",
            "Layer (type)                 Output Shape              Param #   \n",
            "=================================================================\n",
            "conv2d_3 (Conv2D)            (None, 24, 24, 6)         156       \n",
            "_________________________________________________________________\n",
            "average_pooling2d_3 (Average (None, 12, 12, 6)         0         \n",
            "_________________________________________________________________\n",
            "conv2d_4 (Conv2D)            (None, 8, 8, 16)          2416      \n",
            "_________________________________________________________________\n",
            "average_pooling2d_4 (Average (None, 4, 4, 16)          0         \n",
            "_________________________________________________________________\n",
            "flatten_2 (Flatten)          (None, 256)               0         \n",
            "_________________________________________________________________\n",
            "dense_3 (Dense)              (None, 120)               30840     \n",
            "_________________________________________________________________\n",
            "flatten_3 (Flatten)          (None, 120)               0         \n",
            "_________________________________________________________________\n",
            "dense_4 (Dense)              (None, 84)                10164     \n",
            "_________________________________________________________________\n",
            "dense_5 (Dense)              (None, 10)                850       \n",
            "=================================================================\n",
            "Total params: 44,426\n",
            "Trainable params: 44,426\n",
            "Non-trainable params: 0\n",
            "_________________________________________________________________\n"
          ],
          "name": "stdout"
        }
      ]
    },
    {
      "cell_type": "code",
      "metadata": {
        "id": "XyuL2GGA3TxA"
      },
      "source": [
        "model.compile(loss='categorical_crossentropy',optimizer=tf.keras.optimizers.SGD(learning_rate=0.1,momentum=0.0,decay=0.0),metrics=['accuracy'])"
      ],
      "execution_count": 38,
      "outputs": []
    },
    {
      "cell_type": "code",
      "metadata": {
        "id": "wPVdhF_03ZFG",
        "colab": {
          "base_uri": "https://localhost:8080/"
        },
        "outputId": "5d74e4b0-1505-4c65-95fd-5655c9b1e467"
      },
      "source": [
        "model.fit(X_train,y_train,epochs=10,batch_size=128,verbose=1)"
      ],
      "execution_count": 39,
      "outputs": [
        {
          "output_type": "stream",
          "text": [
            "Epoch 1/10\n",
            "469/469 [==============================] - 19s 39ms/step - loss: 0.7270 - accuracy: 0.7985\n",
            "Epoch 2/10\n",
            "469/469 [==============================] - 18s 39ms/step - loss: 0.1833 - accuracy: 0.9459\n",
            "Epoch 3/10\n",
            "469/469 [==============================] - 18s 39ms/step - loss: 0.1166 - accuracy: 0.9663\n",
            "Epoch 4/10\n",
            "469/469 [==============================] - 18s 39ms/step - loss: 0.0868 - accuracy: 0.9753\n",
            "Epoch 5/10\n",
            "469/469 [==============================] - 18s 39ms/step - loss: 0.0708 - accuracy: 0.9790\n",
            "Epoch 6/10\n",
            "469/469 [==============================] - 18s 39ms/step - loss: 0.0615 - accuracy: 0.9818\n",
            "Epoch 7/10\n",
            "469/469 [==============================] - 18s 39ms/step - loss: 0.0507 - accuracy: 0.9849\n",
            "Epoch 8/10\n",
            "469/469 [==============================] - 18s 39ms/step - loss: 0.0463 - accuracy: 0.9865\n",
            "Epoch 9/10\n",
            "469/469 [==============================] - 18s 39ms/step - loss: 0.0421 - accuracy: 0.9877\n",
            "Epoch 10/10\n",
            "469/469 [==============================] - 18s 39ms/step - loss: 0.0356 - accuracy: 0.9897\n"
          ],
          "name": "stdout"
        },
        {
          "output_type": "execute_result",
          "data": {
            "text/plain": [
              "<tensorflow.python.keras.callbacks.History at 0x7f003fe1ff50>"
            ]
          },
          "metadata": {
            "tags": []
          },
          "execution_count": 39
        }
      ]
    },
    {
      "cell_type": "code",
      "metadata": {
        "colab": {
          "base_uri": "https://localhost:8080/",
          "height": 282
        },
        "id": "jC0JfAVS8vJn",
        "outputId": "fb2e37f8-b7b9-41f1-c9ad-0209ede0fa51"
      },
      "source": [
        "image_index = 0\n",
        "plt.imshow(X_test[image_index].reshape(28, 28),cmap='Greys')\n",
        "pred = model.predict(X_test[image_index].reshape(1, 28, 28, 1))\n",
        "print(pred.argmax())"
      ],
      "execution_count": 40,
      "outputs": [
        {
          "output_type": "stream",
          "text": [
            "7\n"
          ],
          "name": "stdout"
        },
        {
          "output_type": "display_data",
          "data": {
            "image/png": "[encoded data removed]",
            "text/plain": [
              "<Figure size 432x288 with 1 Axes>"
            ]
          },
          "metadata": {
            "tags": [],
            "needs_background": "light"
          }
        }
      ]
    },
    {
      "cell_type": "code",
      "metadata": {
        "colab": {
          "base_uri": "https://localhost:8080/"
        },
        "id": "8uexppQe-kVY",
        "outputId": "cf972474-13ce-41db-c9be-1ad275cc5448"
      },
      "source": [
        "model.evaluate(X_test,y_test)"
      ],
      "execution_count": 41,
      "outputs": [
        {
          "output_type": "stream",
          "text": [
            "313/313 [==============================] - 2s 7ms/step - loss: 0.0419 - accuracy: 0.9867\n"
          ],
          "name": "stdout"
        },
        {
          "output_type": "execute_result",
          "data": {
            "text/plain": [
              "[0.041861243546009064, 0.9866999983787537]"
            ]
          },
          "metadata": {
            "tags": []
          },
          "execution_count": 41
        }
      ]
    },
    {
      "cell_type": "code",
      "metadata": {
        "id": "4BYJV84Z-pdG"
      },
      "source": [
        ""
      ],
      "execution_count": null,
      "outputs": []
    }
  ]
}